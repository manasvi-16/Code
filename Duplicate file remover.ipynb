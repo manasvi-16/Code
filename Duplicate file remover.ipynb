{
 "cells": [
  {
   "cell_type": "code",
   "execution_count": 1,
   "id": "94707d68",
   "metadata": {},
   "outputs": [
    {
     "name": "stdout",
     "output_type": "stream",
     "text": [
      "\t\tone.txt\n",
      "\t\tone.txt\n",
      "\t\ttwo.txt\n",
      "\t\ttwo.txt\n"
     ]
    }
   ],
   "source": [
    "import os\n",
    "import sys\n",
    "from pathlib import Path\n",
    "import hashlib\n",
    "  \n",
    "def FindDuplicate(SupFolder):\n",
    "    \n",
    "    # Duplic is in format {hash:[names]}\n",
    "    Duplic = {}\n",
    "    for file_name in files:\n",
    "        \n",
    "        # Path to the file\n",
    "        path = os.path.join(folders, file_name)\n",
    "          \n",
    "        # Calculate hash\n",
    "        file_hash = Hash_File(path)\n",
    "          \n",
    "        # Add or append the file path to Duplic\n",
    "        if file_hash in Duplic:\n",
    "            Duplic[file_hash].append(file_name)\n",
    "        else:\n",
    "            Duplic[file_hash] = [file_name]\n",
    "    return Duplic\n",
    "  \n",
    "# Joins dictionaries\n",
    "def Join_Dictionary(dict_1, dict_2):\n",
    "    for key in dict_2.keys():\n",
    "        \n",
    "        # Checks for existing key\n",
    "        if key in dict_1:\n",
    "            \n",
    "            # If present Append\n",
    "            dict_1[key] = dict_1[key] + dict_2[key]\n",
    "        else:\n",
    "            \n",
    "            # Otherwise Stores\n",
    "            dict_1[key] = dict_2[key]\n",
    "  \n",
    "\n",
    "# Returns HEX digest of file\n",
    "def Hash_File(path):\n",
    "    \n",
    "    # Opening file in afile\n",
    "    afile = open(path, 'rb')\n",
    "    hasher = hashlib.md5()\n",
    "    blocksize=65536\n",
    "    buf = afile.read(blocksize)\n",
    "      \n",
    "    while len(buf) > 0:\n",
    "        hasher.update(buf)\n",
    "        buf = afile.read(blocksize)\n",
    "    afile.close()\n",
    "    return hasher.hexdigest()\n",
    "  \n",
    "Duplic = {}\n",
    "folders = Path('C:/Users/excel/Downloads/python')\n",
    "files = sorted(os.listdir(folders))\n",
    "for i in files:\n",
    "    \n",
    "    # Iterate over the files\n",
    "    # Find the duplicated files\n",
    "    # Append them to the Duplic\n",
    "    Join_Dictionary(Duplic, FindDuplicate(i))\n",
    "      \n",
    "# Results store a list of Duplic values\n",
    "results = list(filter(lambda x: len(x) > 1, Duplic.values()))\n",
    "if len(results) > 0:\n",
    "    for result in results:\n",
    "        for sub_result in result:\n",
    "            print('\\t\\t%s' % sub_result)\n",
    "else:\n",
    "    print('No duplicates found.')"
   ]
  },
  {
   "cell_type": "code",
   "execution_count": null,
   "id": "eea9700e",
   "metadata": {},
   "outputs": [],
   "source": []
  }
 ],
 "metadata": {
  "kernelspec": {
   "display_name": "Python 3 (ipykernel)",
   "language": "python",
   "name": "python3"
  },
  "language_info": {
   "codemirror_mode": {
    "name": "ipython",
    "version": 3
   },
   "file_extension": ".py",
   "mimetype": "text/x-python",
   "name": "python",
   "nbconvert_exporter": "python",
   "pygments_lexer": "ipython3",
   "version": "3.9.6"
  }
 },
 "nbformat": 4,
 "nbformat_minor": 5
}
