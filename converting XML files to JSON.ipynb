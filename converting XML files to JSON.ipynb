{
 "cells": [
  {
   "cell_type": "code",
   "execution_count": null,
   "id": "14f85415",
   "metadata": {},
   "outputs": [],
   "source": [
    "import json\n",
    "import xmltodict\n",
    "\n",
    "with open(\"C:/Users/excel/Downloads/employee.xml\") as xml_file:\n",
    "     \n",
    "    data = xmltodict.parse(xml_file.read())\n",
    "    xml_file.close()\n",
    "    \n",
    "    json_data = json.dumps(data)\n",
    "     \n",
    "    with open(\"C:/Users/excel/Downloads/data.json\", \"w\") as json_file:\n",
    "        json_file.write(json_data)\n",
    "        json_file.close()"
   ]
  }
 ],
 "metadata": {
  "kernelspec": {
   "display_name": "Python 3 (ipykernel)",
   "language": "python",
   "name": "python3"
  },
  "language_info": {
   "codemirror_mode": {
    "name": "ipython",
    "version": 3
   },
   "file_extension": ".py",
   "mimetype": "text/x-python",
   "name": "python",
   "nbconvert_exporter": "python",
   "pygments_lexer": "ipython3",
   "version": "3.9.6"
  }
 },
 "nbformat": 4,
 "nbformat_minor": 5
}
